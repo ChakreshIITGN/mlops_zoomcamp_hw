{
 "cells": [
  {
   "cell_type": "code",
   "execution_count": 80,
   "metadata": {},
   "outputs": [],
   "source": [
    "# !pip install --upgrade mlflow"
   ]
  },
  {
   "cell_type": "code",
   "execution_count": 1,
   "metadata": {},
   "outputs": [],
   "source": [
    "import pickle\n",
    "import mlflow"
   ]
  },
  {
   "cell_type": "code",
   "execution_count": 2,
   "metadata": {},
   "outputs": [
    {
     "data": {
      "text/plain": [
       "'2.13.1'"
      ]
     },
     "execution_count": 2,
     "metadata": {},
     "output_type": "execute_result"
    }
   ],
   "source": [
    "mlflow.__version__"
   ]
  },
  {
   "cell_type": "code",
   "execution_count": 3,
   "metadata": {},
   "outputs": [],
   "source": [
    "mlflow.set_tracking_uri(\"sqlite:///mlflow.db\")\n",
    "mlflow.set_experiment(\"exp_1\")\n",
    "mlflow.set_experiment_tag(\"base regression model version\",\"1.0\")"
   ]
  },
  {
   "cell_type": "code",
   "execution_count": 4,
   "metadata": {},
   "outputs": [],
   "source": [
    "import pandas as pd\n",
    "from sklearn.feature_extraction import DictVectorizer\n",
    "from sklearn.metrics import mean_squared_error as mse\n",
    "from sklearn.linear_model import LinearRegression"
   ]
  },
  {
   "cell_type": "code",
   "execution_count": 5,
   "metadata": {},
   "outputs": [],
   "source": [
    "train_path = \"https://d37ci6vzurychx.cloudfront.net/trip-data/yellow_tripdata_2023-01.parquet\"\n",
    "val_path = \"https://d37ci6vzurychx.cloudfront.net/trip-data/yellow_tripdata_2023-02.parquet\""
   ]
  },
  {
   "cell_type": "code",
   "execution_count": 6,
   "metadata": {},
   "outputs": [],
   "source": [
    "df_train = pd.read_parquet(train_path) # for training \n",
    "df_val = pd.read_parquet(val_path) # for validation and test"
   ]
  },
  {
   "cell_type": "code",
   "execution_count": 7,
   "metadata": {},
   "outputs": [],
   "source": [
    "# df = pd.concat([df_jan,df_feb],axis=0)\n",
    "df = df_train"
   ]
  },
  {
   "cell_type": "code",
   "execution_count": 8,
   "metadata": {},
   "outputs": [
    {
     "data": {
      "text/html": [
       "<div>\n",
       "<style scoped>\n",
       "    .dataframe tbody tr th:only-of-type {\n",
       "        vertical-align: middle;\n",
       "    }\n",
       "\n",
       "    .dataframe tbody tr th {\n",
       "        vertical-align: top;\n",
       "    }\n",
       "\n",
       "    .dataframe thead th {\n",
       "        text-align: right;\n",
       "    }\n",
       "</style>\n",
       "<table border=\"1\" class=\"dataframe\">\n",
       "  <thead>\n",
       "    <tr style=\"text-align: right;\">\n",
       "      <th></th>\n",
       "      <th>VendorID</th>\n",
       "      <th>tpep_pickup_datetime</th>\n",
       "      <th>tpep_dropoff_datetime</th>\n",
       "      <th>passenger_count</th>\n",
       "      <th>trip_distance</th>\n",
       "      <th>RatecodeID</th>\n",
       "      <th>store_and_fwd_flag</th>\n",
       "      <th>PULocationID</th>\n",
       "      <th>DOLocationID</th>\n",
       "      <th>payment_type</th>\n",
       "      <th>fare_amount</th>\n",
       "      <th>extra</th>\n",
       "      <th>mta_tax</th>\n",
       "      <th>tip_amount</th>\n",
       "      <th>tolls_amount</th>\n",
       "      <th>improvement_surcharge</th>\n",
       "      <th>total_amount</th>\n",
       "      <th>congestion_surcharge</th>\n",
       "      <th>airport_fee</th>\n",
       "    </tr>\n",
       "  </thead>\n",
       "  <tbody>\n",
       "    <tr>\n",
       "      <th>0</th>\n",
       "      <td>2</td>\n",
       "      <td>2023-01-01 00:32:10</td>\n",
       "      <td>2023-01-01 00:40:36</td>\n",
       "      <td>1.0</td>\n",
       "      <td>0.97</td>\n",
       "      <td>1.0</td>\n",
       "      <td>N</td>\n",
       "      <td>161</td>\n",
       "      <td>141</td>\n",
       "      <td>2</td>\n",
       "      <td>9.3</td>\n",
       "      <td>1.00</td>\n",
       "      <td>0.5</td>\n",
       "      <td>0.00</td>\n",
       "      <td>0.0</td>\n",
       "      <td>1.0</td>\n",
       "      <td>14.30</td>\n",
       "      <td>2.5</td>\n",
       "      <td>0.00</td>\n",
       "    </tr>\n",
       "    <tr>\n",
       "      <th>1</th>\n",
       "      <td>2</td>\n",
       "      <td>2023-01-01 00:55:08</td>\n",
       "      <td>2023-01-01 01:01:27</td>\n",
       "      <td>1.0</td>\n",
       "      <td>1.10</td>\n",
       "      <td>1.0</td>\n",
       "      <td>N</td>\n",
       "      <td>43</td>\n",
       "      <td>237</td>\n",
       "      <td>1</td>\n",
       "      <td>7.9</td>\n",
       "      <td>1.00</td>\n",
       "      <td>0.5</td>\n",
       "      <td>4.00</td>\n",
       "      <td>0.0</td>\n",
       "      <td>1.0</td>\n",
       "      <td>16.90</td>\n",
       "      <td>2.5</td>\n",
       "      <td>0.00</td>\n",
       "    </tr>\n",
       "    <tr>\n",
       "      <th>2</th>\n",
       "      <td>2</td>\n",
       "      <td>2023-01-01 00:25:04</td>\n",
       "      <td>2023-01-01 00:37:49</td>\n",
       "      <td>1.0</td>\n",
       "      <td>2.51</td>\n",
       "      <td>1.0</td>\n",
       "      <td>N</td>\n",
       "      <td>48</td>\n",
       "      <td>238</td>\n",
       "      <td>1</td>\n",
       "      <td>14.9</td>\n",
       "      <td>1.00</td>\n",
       "      <td>0.5</td>\n",
       "      <td>15.00</td>\n",
       "      <td>0.0</td>\n",
       "      <td>1.0</td>\n",
       "      <td>34.90</td>\n",
       "      <td>2.5</td>\n",
       "      <td>0.00</td>\n",
       "    </tr>\n",
       "    <tr>\n",
       "      <th>3</th>\n",
       "      <td>1</td>\n",
       "      <td>2023-01-01 00:03:48</td>\n",
       "      <td>2023-01-01 00:13:25</td>\n",
       "      <td>0.0</td>\n",
       "      <td>1.90</td>\n",
       "      <td>1.0</td>\n",
       "      <td>N</td>\n",
       "      <td>138</td>\n",
       "      <td>7</td>\n",
       "      <td>1</td>\n",
       "      <td>12.1</td>\n",
       "      <td>7.25</td>\n",
       "      <td>0.5</td>\n",
       "      <td>0.00</td>\n",
       "      <td>0.0</td>\n",
       "      <td>1.0</td>\n",
       "      <td>20.85</td>\n",
       "      <td>0.0</td>\n",
       "      <td>1.25</td>\n",
       "    </tr>\n",
       "    <tr>\n",
       "      <th>4</th>\n",
       "      <td>2</td>\n",
       "      <td>2023-01-01 00:10:29</td>\n",
       "      <td>2023-01-01 00:21:19</td>\n",
       "      <td>1.0</td>\n",
       "      <td>1.43</td>\n",
       "      <td>1.0</td>\n",
       "      <td>N</td>\n",
       "      <td>107</td>\n",
       "      <td>79</td>\n",
       "      <td>1</td>\n",
       "      <td>11.4</td>\n",
       "      <td>1.00</td>\n",
       "      <td>0.5</td>\n",
       "      <td>3.28</td>\n",
       "      <td>0.0</td>\n",
       "      <td>1.0</td>\n",
       "      <td>19.68</td>\n",
       "      <td>2.5</td>\n",
       "      <td>0.00</td>\n",
       "    </tr>\n",
       "  </tbody>\n",
       "</table>\n",
       "</div>"
      ],
      "text/plain": [
       "   VendorID tpep_pickup_datetime tpep_dropoff_datetime  passenger_count  \\\n",
       "0         2  2023-01-01 00:32:10   2023-01-01 00:40:36              1.0   \n",
       "1         2  2023-01-01 00:55:08   2023-01-01 01:01:27              1.0   \n",
       "2         2  2023-01-01 00:25:04   2023-01-01 00:37:49              1.0   \n",
       "3         1  2023-01-01 00:03:48   2023-01-01 00:13:25              0.0   \n",
       "4         2  2023-01-01 00:10:29   2023-01-01 00:21:19              1.0   \n",
       "\n",
       "   trip_distance  RatecodeID store_and_fwd_flag  PULocationID  DOLocationID  \\\n",
       "0           0.97         1.0                  N           161           141   \n",
       "1           1.10         1.0                  N            43           237   \n",
       "2           2.51         1.0                  N            48           238   \n",
       "3           1.90         1.0                  N           138             7   \n",
       "4           1.43         1.0                  N           107            79   \n",
       "\n",
       "   payment_type  fare_amount  extra  mta_tax  tip_amount  tolls_amount  \\\n",
       "0             2          9.3   1.00      0.5        0.00           0.0   \n",
       "1             1          7.9   1.00      0.5        4.00           0.0   \n",
       "2             1         14.9   1.00      0.5       15.00           0.0   \n",
       "3             1         12.1   7.25      0.5        0.00           0.0   \n",
       "4             1         11.4   1.00      0.5        3.28           0.0   \n",
       "\n",
       "   improvement_surcharge  total_amount  congestion_surcharge  airport_fee  \n",
       "0                    1.0         14.30                   2.5         0.00  \n",
       "1                    1.0         16.90                   2.5         0.00  \n",
       "2                    1.0         34.90                   2.5         0.00  \n",
       "3                    1.0         20.85                   0.0         1.25  \n",
       "4                    1.0         19.68                   2.5         0.00  "
      ]
     },
     "execution_count": 8,
     "metadata": {},
     "output_type": "execute_result"
    }
   ],
   "source": [
    "df.head()"
   ]
  },
  {
   "cell_type": "code",
   "execution_count": 9,
   "metadata": {},
   "outputs": [
    {
     "data": {
      "text/plain": [
       "19"
      ]
     },
     "execution_count": 9,
     "metadata": {},
     "output_type": "execute_result"
    }
   ],
   "source": [
    "len(df.columns)"
   ]
  },
  {
   "cell_type": "code",
   "execution_count": 10,
   "metadata": {},
   "outputs": [
    {
     "name": "stdout",
     "output_type": "stream",
     "text": [
      "<class 'pandas.core.frame.DataFrame'>\n",
      "RangeIndex: 3066766 entries, 0 to 3066765\n",
      "Data columns (total 19 columns):\n",
      " #   Column                 Dtype         \n",
      "---  ------                 -----         \n",
      " 0   VendorID               int64         \n",
      " 1   tpep_pickup_datetime   datetime64[us]\n",
      " 2   tpep_dropoff_datetime  datetime64[us]\n",
      " 3   passenger_count        float64       \n",
      " 4   trip_distance          float64       \n",
      " 5   RatecodeID             float64       \n",
      " 6   store_and_fwd_flag     object        \n",
      " 7   PULocationID           int64         \n",
      " 8   DOLocationID           int64         \n",
      " 9   payment_type           int64         \n",
      " 10  fare_amount            float64       \n",
      " 11  extra                  float64       \n",
      " 12  mta_tax                float64       \n",
      " 13  tip_amount             float64       \n",
      " 14  tolls_amount           float64       \n",
      " 15  improvement_surcharge  float64       \n",
      " 16  total_amount           float64       \n",
      " 17  congestion_surcharge   float64       \n",
      " 18  airport_fee            float64       \n",
      "dtypes: datetime64[us](2), float64(12), int64(4), object(1)\n",
      "memory usage: 444.6+ MB\n"
     ]
    }
   ],
   "source": [
    "df.info()"
   ]
  },
  {
   "cell_type": "code",
   "execution_count": 11,
   "metadata": {},
   "outputs": [],
   "source": [
    "df['duration'] = (df['tpep_dropoff_datetime'] - df['tpep_pickup_datetime']).dt.total_seconds()/60"
   ]
  },
  {
   "cell_type": "code",
   "execution_count": 12,
   "metadata": {},
   "outputs": [
    {
     "data": {
      "text/html": [
       "<div>\n",
       "<style scoped>\n",
       "    .dataframe tbody tr th:only-of-type {\n",
       "        vertical-align: middle;\n",
       "    }\n",
       "\n",
       "    .dataframe tbody tr th {\n",
       "        vertical-align: top;\n",
       "    }\n",
       "\n",
       "    .dataframe thead th {\n",
       "        text-align: right;\n",
       "    }\n",
       "</style>\n",
       "<table border=\"1\" class=\"dataframe\">\n",
       "  <thead>\n",
       "    <tr style=\"text-align: right;\">\n",
       "      <th></th>\n",
       "      <th>VendorID</th>\n",
       "      <th>tpep_pickup_datetime</th>\n",
       "      <th>tpep_dropoff_datetime</th>\n",
       "      <th>passenger_count</th>\n",
       "      <th>trip_distance</th>\n",
       "      <th>RatecodeID</th>\n",
       "      <th>PULocationID</th>\n",
       "      <th>DOLocationID</th>\n",
       "      <th>payment_type</th>\n",
       "      <th>fare_amount</th>\n",
       "      <th>extra</th>\n",
       "      <th>mta_tax</th>\n",
       "      <th>tip_amount</th>\n",
       "      <th>tolls_amount</th>\n",
       "      <th>improvement_surcharge</th>\n",
       "      <th>total_amount</th>\n",
       "      <th>congestion_surcharge</th>\n",
       "      <th>airport_fee</th>\n",
       "      <th>duration</th>\n",
       "    </tr>\n",
       "  </thead>\n",
       "  <tbody>\n",
       "    <tr>\n",
       "      <th>count</th>\n",
       "      <td>3.066766e+06</td>\n",
       "      <td>3066766</td>\n",
       "      <td>3066766</td>\n",
       "      <td>2.995023e+06</td>\n",
       "      <td>3.066766e+06</td>\n",
       "      <td>2.995023e+06</td>\n",
       "      <td>3.066766e+06</td>\n",
       "      <td>3.066766e+06</td>\n",
       "      <td>3.066766e+06</td>\n",
       "      <td>3.066766e+06</td>\n",
       "      <td>3.066766e+06</td>\n",
       "      <td>3.066766e+06</td>\n",
       "      <td>3.066766e+06</td>\n",
       "      <td>3.066766e+06</td>\n",
       "      <td>3.066766e+06</td>\n",
       "      <td>3.066766e+06</td>\n",
       "      <td>2.995023e+06</td>\n",
       "      <td>2.995023e+06</td>\n",
       "      <td>3.066766e+06</td>\n",
       "    </tr>\n",
       "    <tr>\n",
       "      <th>mean</th>\n",
       "      <td>1.730215e+00</td>\n",
       "      <td>2023-01-17 00:22:26.288164</td>\n",
       "      <td>2023-01-17 00:38:06.427874</td>\n",
       "      <td>1.362532e+00</td>\n",
       "      <td>3.847342e+00</td>\n",
       "      <td>1.497440e+00</td>\n",
       "      <td>1.663980e+02</td>\n",
       "      <td>1.643926e+02</td>\n",
       "      <td>1.194483e+00</td>\n",
       "      <td>1.836707e+01</td>\n",
       "      <td>1.537842e+00</td>\n",
       "      <td>4.882900e-01</td>\n",
       "      <td>3.367941e+00</td>\n",
       "      <td>5.184907e-01</td>\n",
       "      <td>9.820847e-01</td>\n",
       "      <td>2.702038e+01</td>\n",
       "      <td>2.274231e+00</td>\n",
       "      <td>1.074086e-01</td>\n",
       "      <td>1.566900e+01</td>\n",
       "    </tr>\n",
       "    <tr>\n",
       "      <th>min</th>\n",
       "      <td>1.000000e+00</td>\n",
       "      <td>2008-12-31 23:01:42</td>\n",
       "      <td>2009-01-01 14:29:11</td>\n",
       "      <td>0.000000e+00</td>\n",
       "      <td>0.000000e+00</td>\n",
       "      <td>1.000000e+00</td>\n",
       "      <td>1.000000e+00</td>\n",
       "      <td>1.000000e+00</td>\n",
       "      <td>0.000000e+00</td>\n",
       "      <td>-9.000000e+02</td>\n",
       "      <td>-7.500000e+00</td>\n",
       "      <td>-5.000000e-01</td>\n",
       "      <td>-9.622000e+01</td>\n",
       "      <td>-6.500000e+01</td>\n",
       "      <td>-1.000000e+00</td>\n",
       "      <td>-7.510000e+02</td>\n",
       "      <td>-2.500000e+00</td>\n",
       "      <td>-1.250000e+00</td>\n",
       "      <td>-2.920000e+01</td>\n",
       "    </tr>\n",
       "    <tr>\n",
       "      <th>25%</th>\n",
       "      <td>1.000000e+00</td>\n",
       "      <td>2023-01-09 16:21:57.250000</td>\n",
       "      <td>2023-01-09 16:37:06</td>\n",
       "      <td>1.000000e+00</td>\n",
       "      <td>1.060000e+00</td>\n",
       "      <td>1.000000e+00</td>\n",
       "      <td>1.320000e+02</td>\n",
       "      <td>1.140000e+02</td>\n",
       "      <td>1.000000e+00</td>\n",
       "      <td>8.600000e+00</td>\n",
       "      <td>0.000000e+00</td>\n",
       "      <td>5.000000e-01</td>\n",
       "      <td>1.000000e+00</td>\n",
       "      <td>0.000000e+00</td>\n",
       "      <td>1.000000e+00</td>\n",
       "      <td>1.540000e+01</td>\n",
       "      <td>2.500000e+00</td>\n",
       "      <td>0.000000e+00</td>\n",
       "      <td>7.116667e+00</td>\n",
       "    </tr>\n",
       "    <tr>\n",
       "      <th>50%</th>\n",
       "      <td>2.000000e+00</td>\n",
       "      <td>2023-01-17 08:42:29.500000</td>\n",
       "      <td>2023-01-17 08:58:30.500000</td>\n",
       "      <td>1.000000e+00</td>\n",
       "      <td>1.800000e+00</td>\n",
       "      <td>1.000000e+00</td>\n",
       "      <td>1.620000e+02</td>\n",
       "      <td>1.620000e+02</td>\n",
       "      <td>1.000000e+00</td>\n",
       "      <td>1.280000e+01</td>\n",
       "      <td>1.000000e+00</td>\n",
       "      <td>5.000000e-01</td>\n",
       "      <td>2.720000e+00</td>\n",
       "      <td>0.000000e+00</td>\n",
       "      <td>1.000000e+00</td>\n",
       "      <td>2.016000e+01</td>\n",
       "      <td>2.500000e+00</td>\n",
       "      <td>0.000000e+00</td>\n",
       "      <td>1.151667e+01</td>\n",
       "    </tr>\n",
       "    <tr>\n",
       "      <th>75%</th>\n",
       "      <td>2.000000e+00</td>\n",
       "      <td>2023-01-24 16:26:27</td>\n",
       "      <td>2023-01-24 16:42:49</td>\n",
       "      <td>1.000000e+00</td>\n",
       "      <td>3.330000e+00</td>\n",
       "      <td>1.000000e+00</td>\n",
       "      <td>2.340000e+02</td>\n",
       "      <td>2.340000e+02</td>\n",
       "      <td>1.000000e+00</td>\n",
       "      <td>2.050000e+01</td>\n",
       "      <td>2.500000e+00</td>\n",
       "      <td>5.000000e-01</td>\n",
       "      <td>4.200000e+00</td>\n",
       "      <td>0.000000e+00</td>\n",
       "      <td>1.000000e+00</td>\n",
       "      <td>2.870000e+01</td>\n",
       "      <td>2.500000e+00</td>\n",
       "      <td>0.000000e+00</td>\n",
       "      <td>1.830000e+01</td>\n",
       "    </tr>\n",
       "    <tr>\n",
       "      <th>max</th>\n",
       "      <td>2.000000e+00</td>\n",
       "      <td>2023-02-01 00:56:53</td>\n",
       "      <td>2023-02-02 09:28:47</td>\n",
       "      <td>9.000000e+00</td>\n",
       "      <td>2.589281e+05</td>\n",
       "      <td>9.900000e+01</td>\n",
       "      <td>2.650000e+02</td>\n",
       "      <td>2.650000e+02</td>\n",
       "      <td>4.000000e+00</td>\n",
       "      <td>1.160100e+03</td>\n",
       "      <td>1.250000e+01</td>\n",
       "      <td>5.316000e+01</td>\n",
       "      <td>3.808000e+02</td>\n",
       "      <td>1.969900e+02</td>\n",
       "      <td>1.000000e+00</td>\n",
       "      <td>1.169400e+03</td>\n",
       "      <td>2.500000e+00</td>\n",
       "      <td>1.250000e+00</td>\n",
       "      <td>1.002918e+04</td>\n",
       "    </tr>\n",
       "    <tr>\n",
       "      <th>std</th>\n",
       "      <td>4.438480e-01</td>\n",
       "      <td>NaN</td>\n",
       "      <td>NaN</td>\n",
       "      <td>8.961200e-01</td>\n",
       "      <td>2.495838e+02</td>\n",
       "      <td>6.474767e+00</td>\n",
       "      <td>6.424413e+01</td>\n",
       "      <td>6.994368e+01</td>\n",
       "      <td>5.294762e-01</td>\n",
       "      <td>1.780782e+01</td>\n",
       "      <td>1.789592e+00</td>\n",
       "      <td>1.034641e-01</td>\n",
       "      <td>3.826759e+00</td>\n",
       "      <td>2.017579e+00</td>\n",
       "      <td>1.833529e-01</td>\n",
       "      <td>2.216359e+01</td>\n",
       "      <td>7.718454e-01</td>\n",
       "      <td>3.556511e-01</td>\n",
       "      <td>4.259435e+01</td>\n",
       "    </tr>\n",
       "  </tbody>\n",
       "</table>\n",
       "</div>"
      ],
      "text/plain": [
       "           VendorID        tpep_pickup_datetime       tpep_dropoff_datetime  \\\n",
       "count  3.066766e+06                     3066766                     3066766   \n",
       "mean   1.730215e+00  2023-01-17 00:22:26.288164  2023-01-17 00:38:06.427874   \n",
       "min    1.000000e+00         2008-12-31 23:01:42         2009-01-01 14:29:11   \n",
       "25%    1.000000e+00  2023-01-09 16:21:57.250000         2023-01-09 16:37:06   \n",
       "50%    2.000000e+00  2023-01-17 08:42:29.500000  2023-01-17 08:58:30.500000   \n",
       "75%    2.000000e+00         2023-01-24 16:26:27         2023-01-24 16:42:49   \n",
       "max    2.000000e+00         2023-02-01 00:56:53         2023-02-02 09:28:47   \n",
       "std    4.438480e-01                         NaN                         NaN   \n",
       "\n",
       "       passenger_count  trip_distance    RatecodeID  PULocationID  \\\n",
       "count     2.995023e+06   3.066766e+06  2.995023e+06  3.066766e+06   \n",
       "mean      1.362532e+00   3.847342e+00  1.497440e+00  1.663980e+02   \n",
       "min       0.000000e+00   0.000000e+00  1.000000e+00  1.000000e+00   \n",
       "25%       1.000000e+00   1.060000e+00  1.000000e+00  1.320000e+02   \n",
       "50%       1.000000e+00   1.800000e+00  1.000000e+00  1.620000e+02   \n",
       "75%       1.000000e+00   3.330000e+00  1.000000e+00  2.340000e+02   \n",
       "max       9.000000e+00   2.589281e+05  9.900000e+01  2.650000e+02   \n",
       "std       8.961200e-01   2.495838e+02  6.474767e+00  6.424413e+01   \n",
       "\n",
       "       DOLocationID  payment_type   fare_amount         extra       mta_tax  \\\n",
       "count  3.066766e+06  3.066766e+06  3.066766e+06  3.066766e+06  3.066766e+06   \n",
       "mean   1.643926e+02  1.194483e+00  1.836707e+01  1.537842e+00  4.882900e-01   \n",
       "min    1.000000e+00  0.000000e+00 -9.000000e+02 -7.500000e+00 -5.000000e-01   \n",
       "25%    1.140000e+02  1.000000e+00  8.600000e+00  0.000000e+00  5.000000e-01   \n",
       "50%    1.620000e+02  1.000000e+00  1.280000e+01  1.000000e+00  5.000000e-01   \n",
       "75%    2.340000e+02  1.000000e+00  2.050000e+01  2.500000e+00  5.000000e-01   \n",
       "max    2.650000e+02  4.000000e+00  1.160100e+03  1.250000e+01  5.316000e+01   \n",
       "std    6.994368e+01  5.294762e-01  1.780782e+01  1.789592e+00  1.034641e-01   \n",
       "\n",
       "         tip_amount  tolls_amount  improvement_surcharge  total_amount  \\\n",
       "count  3.066766e+06  3.066766e+06           3.066766e+06  3.066766e+06   \n",
       "mean   3.367941e+00  5.184907e-01           9.820847e-01  2.702038e+01   \n",
       "min   -9.622000e+01 -6.500000e+01          -1.000000e+00 -7.510000e+02   \n",
       "25%    1.000000e+00  0.000000e+00           1.000000e+00  1.540000e+01   \n",
       "50%    2.720000e+00  0.000000e+00           1.000000e+00  2.016000e+01   \n",
       "75%    4.200000e+00  0.000000e+00           1.000000e+00  2.870000e+01   \n",
       "max    3.808000e+02  1.969900e+02           1.000000e+00  1.169400e+03   \n",
       "std    3.826759e+00  2.017579e+00           1.833529e-01  2.216359e+01   \n",
       "\n",
       "       congestion_surcharge   airport_fee      duration  \n",
       "count          2.995023e+06  2.995023e+06  3.066766e+06  \n",
       "mean           2.274231e+00  1.074086e-01  1.566900e+01  \n",
       "min           -2.500000e+00 -1.250000e+00 -2.920000e+01  \n",
       "25%            2.500000e+00  0.000000e+00  7.116667e+00  \n",
       "50%            2.500000e+00  0.000000e+00  1.151667e+01  \n",
       "75%            2.500000e+00  0.000000e+00  1.830000e+01  \n",
       "max            2.500000e+00  1.250000e+00  1.002918e+04  \n",
       "std            7.718454e-01  3.556511e-01  4.259435e+01  "
      ]
     },
     "execution_count": 12,
     "metadata": {},
     "output_type": "execute_result"
    }
   ],
   "source": [
    "df.describe()"
   ]
  },
  {
   "cell_type": "code",
   "execution_count": 13,
   "metadata": {},
   "outputs": [],
   "source": [
    "categorical = ['PULocationID', 'DOLocationID']\n",
    "\n",
    "df[categorical] = df[categorical].astype('str')"
   ]
  },
  {
   "cell_type": "code",
   "execution_count": 14,
   "metadata": {},
   "outputs": [
    {
     "data": {
      "text/plain": [
       "0.9812202822125979"
      ]
     },
     "execution_count": 14,
     "metadata": {},
     "output_type": "execute_result"
    }
   ],
   "source": [
    "len(df['duration'][(df['duration']>=1) & (df['duration']<=60)])/len(df['duration'])"
   ]
  },
  {
   "cell_type": "code",
   "execution_count": 15,
   "metadata": {},
   "outputs": [],
   "source": [
    "df = df[(df.duration >= 1) & (df.duration <= 60)].copy()"
   ]
  },
  {
   "cell_type": "code",
   "execution_count": 16,
   "metadata": {},
   "outputs": [],
   "source": [
    "train_data = df[categorical].to_dict(orient='records')"
   ]
  },
  {
   "cell_type": "code",
   "execution_count": 17,
   "metadata": {},
   "outputs": [],
   "source": [
    "dv = DictVectorizer()"
   ]
  },
  {
   "cell_type": "code",
   "execution_count": 18,
   "metadata": {},
   "outputs": [],
   "source": [
    "X_train = dv.fit_transform(train_data)"
   ]
  },
  {
   "cell_type": "code",
   "execution_count": 19,
   "metadata": {},
   "outputs": [
    {
     "name": "stdout",
     "output_type": "stream",
     "text": [
      "(3009173, 515)\n"
     ]
    }
   ],
   "source": [
    "print(X_train.shape)"
   ]
  },
  {
   "cell_type": "markdown",
   "metadata": {},
   "source": [
    "# Creating and training a model"
   ]
  },
  {
   "cell_type": "code",
   "execution_count": 20,
   "metadata": {},
   "outputs": [],
   "source": [
    "target = 'duration'\n",
    "y_train = df[target].values"
   ]
  },
  {
   "cell_type": "code",
   "execution_count": 21,
   "metadata": {},
   "outputs": [
    {
     "data": {
      "text/html": [
       "<style>#sk-container-id-1 {color: black;}#sk-container-id-1 pre{padding: 0;}#sk-container-id-1 div.sk-toggleable {background-color: white;}#sk-container-id-1 label.sk-toggleable__label {cursor: pointer;display: block;width: 100%;margin-bottom: 0;padding: 0.3em;box-sizing: border-box;text-align: center;}#sk-container-id-1 label.sk-toggleable__label-arrow:before {content: \"▸\";float: left;margin-right: 0.25em;color: #696969;}#sk-container-id-1 label.sk-toggleable__label-arrow:hover:before {color: black;}#sk-container-id-1 div.sk-estimator:hover label.sk-toggleable__label-arrow:before {color: black;}#sk-container-id-1 div.sk-toggleable__content {max-height: 0;max-width: 0;overflow: hidden;text-align: left;background-color: #f0f8ff;}#sk-container-id-1 div.sk-toggleable__content pre {margin: 0.2em;color: black;border-radius: 0.25em;background-color: #f0f8ff;}#sk-container-id-1 input.sk-toggleable__control:checked~div.sk-toggleable__content {max-height: 200px;max-width: 100%;overflow: auto;}#sk-container-id-1 input.sk-toggleable__control:checked~label.sk-toggleable__label-arrow:before {content: \"▾\";}#sk-container-id-1 div.sk-estimator input.sk-toggleable__control:checked~label.sk-toggleable__label {background-color: #d4ebff;}#sk-container-id-1 div.sk-label input.sk-toggleable__control:checked~label.sk-toggleable__label {background-color: #d4ebff;}#sk-container-id-1 input.sk-hidden--visually {border: 0;clip: rect(1px 1px 1px 1px);clip: rect(1px, 1px, 1px, 1px);height: 1px;margin: -1px;overflow: hidden;padding: 0;position: absolute;width: 1px;}#sk-container-id-1 div.sk-estimator {font-family: monospace;background-color: #f0f8ff;border: 1px dotted black;border-radius: 0.25em;box-sizing: border-box;margin-bottom: 0.5em;}#sk-container-id-1 div.sk-estimator:hover {background-color: #d4ebff;}#sk-container-id-1 div.sk-parallel-item::after {content: \"\";width: 100%;border-bottom: 1px solid gray;flex-grow: 1;}#sk-container-id-1 div.sk-label:hover label.sk-toggleable__label {background-color: #d4ebff;}#sk-container-id-1 div.sk-serial::before {content: \"\";position: absolute;border-left: 1px solid gray;box-sizing: border-box;top: 0;bottom: 0;left: 50%;z-index: 0;}#sk-container-id-1 div.sk-serial {display: flex;flex-direction: column;align-items: center;background-color: white;padding-right: 0.2em;padding-left: 0.2em;position: relative;}#sk-container-id-1 div.sk-item {position: relative;z-index: 1;}#sk-container-id-1 div.sk-parallel {display: flex;align-items: stretch;justify-content: center;background-color: white;position: relative;}#sk-container-id-1 div.sk-item::before, #sk-container-id-1 div.sk-parallel-item::before {content: \"\";position: absolute;border-left: 1px solid gray;box-sizing: border-box;top: 0;bottom: 0;left: 50%;z-index: -1;}#sk-container-id-1 div.sk-parallel-item {display: flex;flex-direction: column;z-index: 1;position: relative;background-color: white;}#sk-container-id-1 div.sk-parallel-item:first-child::after {align-self: flex-end;width: 50%;}#sk-container-id-1 div.sk-parallel-item:last-child::after {align-self: flex-start;width: 50%;}#sk-container-id-1 div.sk-parallel-item:only-child::after {width: 0;}#sk-container-id-1 div.sk-dashed-wrapped {border: 1px dashed gray;margin: 0 0.4em 0.5em 0.4em;box-sizing: border-box;padding-bottom: 0.4em;background-color: white;}#sk-container-id-1 div.sk-label label {font-family: monospace;font-weight: bold;display: inline-block;line-height: 1.2em;}#sk-container-id-1 div.sk-label-container {text-align: center;}#sk-container-id-1 div.sk-container {/* jupyter's `normalize.less` sets `[hidden] { display: none; }` but bootstrap.min.css set `[hidden] { display: none !important; }` so we also need the `!important` here to be able to override the default hidden behavior on the sphinx rendered scikit-learn.org. See: https://github.com/scikit-learn/scikit-learn/issues/21755 */display: inline-block !important;position: relative;}#sk-container-id-1 div.sk-text-repr-fallback {display: none;}</style><div id=\"sk-container-id-1\" class=\"sk-top-container\"><div class=\"sk-text-repr-fallback\"><pre>LinearRegression()</pre><b>In a Jupyter environment, please rerun this cell to show the HTML representation or trust the notebook. <br />On GitHub, the HTML representation is unable to render, please try loading this page with nbviewer.org.</b></div><div class=\"sk-container\" hidden><div class=\"sk-item\"><div class=\"sk-estimator sk-toggleable\"><input class=\"sk-toggleable__control sk-hidden--visually\" id=\"sk-estimator-id-1\" type=\"checkbox\" checked><label for=\"sk-estimator-id-1\" class=\"sk-toggleable__label sk-toggleable__label-arrow\">LinearRegression</label><div class=\"sk-toggleable__content\"><pre>LinearRegression()</pre></div></div></div></div></div>"
      ],
      "text/plain": [
       "LinearRegression()"
      ]
     },
     "execution_count": 21,
     "metadata": {},
     "output_type": "execute_result"
    }
   ],
   "source": [
    "model = LinearRegression()\n",
    "model.fit(X_train,y_train)"
   ]
  },
  {
   "cell_type": "code",
   "execution_count": 22,
   "metadata": {},
   "outputs": [],
   "source": [
    "y_train_predict = model.predict(X_train)"
   ]
  },
  {
   "cell_type": "code",
   "execution_count": 23,
   "metadata": {},
   "outputs": [
    {
     "data": {
      "text/plain": [
       "7.649261927686161"
      ]
     },
     "execution_count": 23,
     "metadata": {},
     "output_type": "execute_result"
    }
   ],
   "source": [
    "mse(y_train,y_train_predict,squared=False)"
   ]
  },
  {
   "cell_type": "code",
   "execution_count": 24,
   "metadata": {},
   "outputs": [],
   "source": [
    "from sklearn.base import BaseEstimator, TransformerMixin\n",
    "from sklearn.pipeline import Pipeline"
   ]
  },
  {
   "cell_type": "markdown",
   "metadata": {},
   "source": [
    "## Function to modify the dataframe to get the validation set"
   ]
  },
  {
   "cell_type": "code",
   "execution_count": 25,
   "metadata": {},
   "outputs": [],
   "source": [
    "class PrepareVal():\n",
    "\n",
    "    def __init__(self,min_t:int,max_t:int,categorical:list,target:str):\n",
    "        '''\n",
    "        class to modify the dataframe based on the constraints on the feature columns and the \n",
    "        trip duration times \n",
    "\n",
    "        Parameters: \n",
    "            min_t : minimumt time for acceptable duration in minutes\n",
    "            max-t : maximum time for acceptable duration in minutes\n",
    "            categorical : columns accepted as categorical columns that will act as the feature columns\n",
    "            target : column name for the target variables \n",
    "        \n",
    "        Returns:\n",
    "\n",
    "        transformed df \n",
    "        \n",
    "        y_val - validation target values\n",
    "        '''\n",
    "\n",
    "        self.min_t = min_t\n",
    "        self.max_t = max_t\n",
    "        self.categorical = categorical\n",
    "        \n",
    "        return None \n",
    "\n",
    "    def transform(self,df):\n",
    "        \n",
    "        df['duration'] = (df['tpep_dropoff_datetime'] - df['tpep_pickup_datetime']).dt.total_seconds()/60\n",
    "        \n",
    "        df = df[(df['duration'] >= self.min_t)&(df['duration'] <= self.max_t)].copy()\n",
    "\n",
    "        df[self.categorical] = df[self.categorical].astype('str')\n",
    "\n",
    "        val_df = df[self.categorical].to_dict(orient='records')\n",
    "\n",
    "        X_val = dv.fit_transform(val_df)\n",
    "        y_val = df[target].values\n",
    "\n",
    "        return X_val,y_val\n",
    "\n",
    "        "
   ]
  },
  {
   "cell_type": "code",
   "execution_count": 26,
   "metadata": {},
   "outputs": [],
   "source": [
    "val_func = PrepareVal(1,60,categorical,'target')"
   ]
  },
  {
   "cell_type": "code",
   "execution_count": 27,
   "metadata": {},
   "outputs": [],
   "source": [
    "X_val,y_val = val_func.transform(df_val)"
   ]
  },
  {
   "cell_type": "code",
   "execution_count": 28,
   "metadata": {},
   "outputs": [
    {
     "data": {
      "text/html": [
       "<style>#sk-container-id-2 {color: black;}#sk-container-id-2 pre{padding: 0;}#sk-container-id-2 div.sk-toggleable {background-color: white;}#sk-container-id-2 label.sk-toggleable__label {cursor: pointer;display: block;width: 100%;margin-bottom: 0;padding: 0.3em;box-sizing: border-box;text-align: center;}#sk-container-id-2 label.sk-toggleable__label-arrow:before {content: \"▸\";float: left;margin-right: 0.25em;color: #696969;}#sk-container-id-2 label.sk-toggleable__label-arrow:hover:before {color: black;}#sk-container-id-2 div.sk-estimator:hover label.sk-toggleable__label-arrow:before {color: black;}#sk-container-id-2 div.sk-toggleable__content {max-height: 0;max-width: 0;overflow: hidden;text-align: left;background-color: #f0f8ff;}#sk-container-id-2 div.sk-toggleable__content pre {margin: 0.2em;color: black;border-radius: 0.25em;background-color: #f0f8ff;}#sk-container-id-2 input.sk-toggleable__control:checked~div.sk-toggleable__content {max-height: 200px;max-width: 100%;overflow: auto;}#sk-container-id-2 input.sk-toggleable__control:checked~label.sk-toggleable__label-arrow:before {content: \"▾\";}#sk-container-id-2 div.sk-estimator input.sk-toggleable__control:checked~label.sk-toggleable__label {background-color: #d4ebff;}#sk-container-id-2 div.sk-label input.sk-toggleable__control:checked~label.sk-toggleable__label {background-color: #d4ebff;}#sk-container-id-2 input.sk-hidden--visually {border: 0;clip: rect(1px 1px 1px 1px);clip: rect(1px, 1px, 1px, 1px);height: 1px;margin: -1px;overflow: hidden;padding: 0;position: absolute;width: 1px;}#sk-container-id-2 div.sk-estimator {font-family: monospace;background-color: #f0f8ff;border: 1px dotted black;border-radius: 0.25em;box-sizing: border-box;margin-bottom: 0.5em;}#sk-container-id-2 div.sk-estimator:hover {background-color: #d4ebff;}#sk-container-id-2 div.sk-parallel-item::after {content: \"\";width: 100%;border-bottom: 1px solid gray;flex-grow: 1;}#sk-container-id-2 div.sk-label:hover label.sk-toggleable__label {background-color: #d4ebff;}#sk-container-id-2 div.sk-serial::before {content: \"\";position: absolute;border-left: 1px solid gray;box-sizing: border-box;top: 0;bottom: 0;left: 50%;z-index: 0;}#sk-container-id-2 div.sk-serial {display: flex;flex-direction: column;align-items: center;background-color: white;padding-right: 0.2em;padding-left: 0.2em;position: relative;}#sk-container-id-2 div.sk-item {position: relative;z-index: 1;}#sk-container-id-2 div.sk-parallel {display: flex;align-items: stretch;justify-content: center;background-color: white;position: relative;}#sk-container-id-2 div.sk-item::before, #sk-container-id-2 div.sk-parallel-item::before {content: \"\";position: absolute;border-left: 1px solid gray;box-sizing: border-box;top: 0;bottom: 0;left: 50%;z-index: -1;}#sk-container-id-2 div.sk-parallel-item {display: flex;flex-direction: column;z-index: 1;position: relative;background-color: white;}#sk-container-id-2 div.sk-parallel-item:first-child::after {align-self: flex-end;width: 50%;}#sk-container-id-2 div.sk-parallel-item:last-child::after {align-self: flex-start;width: 50%;}#sk-container-id-2 div.sk-parallel-item:only-child::after {width: 0;}#sk-container-id-2 div.sk-dashed-wrapped {border: 1px dashed gray;margin: 0 0.4em 0.5em 0.4em;box-sizing: border-box;padding-bottom: 0.4em;background-color: white;}#sk-container-id-2 div.sk-label label {font-family: monospace;font-weight: bold;display: inline-block;line-height: 1.2em;}#sk-container-id-2 div.sk-label-container {text-align: center;}#sk-container-id-2 div.sk-container {/* jupyter's `normalize.less` sets `[hidden] { display: none; }` but bootstrap.min.css set `[hidden] { display: none !important; }` so we also need the `!important` here to be able to override the default hidden behavior on the sphinx rendered scikit-learn.org. See: https://github.com/scikit-learn/scikit-learn/issues/21755 */display: inline-block !important;position: relative;}#sk-container-id-2 div.sk-text-repr-fallback {display: none;}</style><div id=\"sk-container-id-2\" class=\"sk-top-container\"><div class=\"sk-text-repr-fallback\"><pre>LinearRegression()</pre><b>In a Jupyter environment, please rerun this cell to show the HTML representation or trust the notebook. <br />On GitHub, the HTML representation is unable to render, please try loading this page with nbviewer.org.</b></div><div class=\"sk-container\" hidden><div class=\"sk-item\"><div class=\"sk-estimator sk-toggleable\"><input class=\"sk-toggleable__control sk-hidden--visually\" id=\"sk-estimator-id-2\" type=\"checkbox\" checked><label for=\"sk-estimator-id-2\" class=\"sk-toggleable__label sk-toggleable__label-arrow\">LinearRegression</label><div class=\"sk-toggleable__content\"><pre>LinearRegression()</pre></div></div></div></div></div>"
      ],
      "text/plain": [
       "LinearRegression()"
      ]
     },
     "execution_count": 28,
     "metadata": {},
     "output_type": "execute_result"
    }
   ],
   "source": [
    "model.fit(X_val,y_val)"
   ]
  },
  {
   "cell_type": "code",
   "execution_count": 29,
   "metadata": {},
   "outputs": [],
   "source": [
    "y_val_pred = model.predict(X_val)"
   ]
  },
  {
   "cell_type": "code",
   "execution_count": 30,
   "metadata": {},
   "outputs": [
    {
     "name": "stdout",
     "output_type": "stream",
     "text": [
      "Validation Error 7.778948571132272\n"
     ]
    }
   ],
   "source": [
    "print(f'Validation Error {mse(y_val,y_val_pred,squared=False)}')"
   ]
  },
  {
   "cell_type": "code",
   "execution_count": 31,
   "metadata": {},
   "outputs": [],
   "source": [
    "# !pip install hyperopt xgboost lightgbm"
   ]
  },
  {
   "cell_type": "code",
   "execution_count": null,
   "metadata": {},
   "outputs": [],
   "source": []
  },
  {
   "cell_type": "code",
   "execution_count": 32,
   "metadata": {},
   "outputs": [],
   "source": [
    "with mlflow.start_run():\n",
    "\n",
    "    mlflow.set_tag(\"author\",\"chakresh\")\n",
    "    mlflow.log_param(\"train-data-path\",train_path)\n",
    "    mlflow.log_param(\"val-data-path\",val_path)\n",
    "\n",
    "    model = LinearRegression()\n",
    "\n",
    "    model.fit(X_train,y_train)\n",
    "    y_train_pred = model.predict(X_train)\n",
    "\n",
    "    train_mse = mse(y_train,y_train_pred,squared=False)\n",
    "\n",
    "    mlflow.log_metric(\"train mse\",train_mse)\n",
    "    \n",
    "\n",
    "\n",
    "    "
   ]
  },
  {
   "cell_type": "markdown",
   "metadata": {},
   "source": [
    "## Experiment tracking and hyperparameter tuning "
   ]
  },
  {
   "cell_type": "code",
   "execution_count": 33,
   "metadata": {},
   "outputs": [],
   "source": [
    "# !pip install xgboost==2.0.3"
   ]
  },
  {
   "cell_type": "code",
   "execution_count": 34,
   "metadata": {},
   "outputs": [],
   "source": [
    "import xgboost as xgb\n",
    "\n",
    "from hyperopt import fmin, tpe, STATUS_OK, hp, Trials\n",
    "from hyperopt.pyll import scope"
   ]
  },
  {
   "cell_type": "code",
   "execution_count": null,
   "metadata": {},
   "outputs": [],
   "source": []
  },
  {
   "cell_type": "code",
   "execution_count": 35,
   "metadata": {},
   "outputs": [],
   "source": [
    "train = xgb.DMatrix(X_train,label=y_train)\n",
    "val = xgb.DMatrix(X_val,label=y_val)"
   ]
  },
  {
   "cell_type": "code",
   "execution_count": 36,
   "metadata": {},
   "outputs": [],
   "source": [
    "def objective(params):\n",
    "    with mlflow.start_run():\n",
    "        mlflow.set_tag(\"model\",\"xgboost\")\n",
    "        mlflow.log_params(params)\n",
    "        xgb_model = xgb.train(\n",
    "                        params=params,\n",
    "                        dtrain = train,\n",
    "                        num_boost_round=500,\n",
    "                        evals=[(val,\"validation\")],\n",
    "                        early_stopping_rounds=50 \n",
    "                    )\n",
    "        y_val_pred = xgb_model.predict(val)\n",
    "        loss = mse(y_val,y_val_pred,squared=False)\n",
    "        mlflow.log_metric(\"mse\",loss)\n",
    "        return {\"loss\":loss, \"status\":STATUS_OK}\n",
    "\n",
    "        "
   ]
  },
  {
   "cell_type": "code",
   "execution_count": 37,
   "metadata": {},
   "outputs": [],
   "source": [
    "search_scope = {\n",
    "            'max_depth': scope.int(hp.quniform('max_depth', 4, 100, 1)),\n",
    "            'learning_rate': hp.loguniform('learning_rate', -3, 0),\n",
    "            'reg_alpha': hp.loguniform('reg_alpha', -5, -1),\n",
    "            'reg_lambda': hp.loguniform('reg_lambda', -6, -1),\n",
    "            'min_child_weight': hp.loguniform('min_child_weight', -1, 3),\n",
    "            'objective': 'reg:linear',\n",
    "            'seed': 42,\n",
    "            \n",
    "        }"
   ]
  },
  {
   "cell_type": "code",
   "execution_count": 38,
   "metadata": {},
   "outputs": [
    {
     "name": "stderr",
     "output_type": "stream",
     "text": [
      "/Users/chakreshsingh/opt/anaconda3/envs/mlflow/lib/python3.8/site-packages/xgboost/core.py:160: UserWarning: [01:03:13] WARNING: /Users/runner/work/xgboost/xgboost/src/objective/regression_obj.cu:209: reg:linear is now deprecated in favor of reg:squarederror.\n",
      "  warnings.warn(smsg, UserWarning)\n"
     ]
    },
    {
     "name": "stdout",
     "output_type": "stream",
     "text": [
      "[0]\tvalidation-rmse:10.06084\n",
      "[1]\tvalidation-rmse:10.06025\n",
      "[2]\tvalidation-rmse:10.07328\n",
      "[3]\tvalidation-rmse:10.09047\n",
      "[4]\tvalidation-rmse:10.11186\n",
      "[5]\tvalidation-rmse:10.13285\n",
      "[6]\tvalidation-rmse:10.16663\n",
      "[7]\tvalidation-rmse:10.16232\n",
      "[8]\tvalidation-rmse:10.16551\n",
      "[9]\tvalidation-rmse:10.19319\n",
      "[10]\tvalidation-rmse:10.20015\n",
      "[11]\tvalidation-rmse:10.24255\n",
      "[12]\tvalidation-rmse:10.25250\n",
      "[13]\tvalidation-rmse:10.28544\n",
      "[14]\tvalidation-rmse:10.29807\n",
      "[15]\tvalidation-rmse:10.36900\n",
      "[16]\tvalidation-rmse:10.37943\n",
      "[17]\tvalidation-rmse:10.40787\n",
      "[18]\tvalidation-rmse:10.44029\n",
      "[19]\tvalidation-rmse:10.49849\n",
      "[20]\tvalidation-rmse:10.51724\n",
      "[21]\tvalidation-rmse:10.55123\n",
      "[22]\tvalidation-rmse:10.58401\n",
      "[23]\tvalidation-rmse:10.60505\n",
      "[24]\tvalidation-rmse:10.65104\n",
      "[25]\tvalidation-rmse:10.67368\n",
      "[26]\tvalidation-rmse:10.72123\n",
      "[27]\tvalidation-rmse:10.78412\n",
      "[28]\tvalidation-rmse:10.80875\n",
      "[29]\tvalidation-rmse:10.85588\n",
      "[30]\tvalidation-rmse:10.86201\n",
      "[31]\tvalidation-rmse:10.94432\n",
      "[32]\tvalidation-rmse:10.97183\n",
      "[33]\tvalidation-rmse:11.04575\n",
      "[34]\tvalidation-rmse:11.08308\n",
      "[35]\tvalidation-rmse:11.10845\n",
      "[36]\tvalidation-rmse:11.12283\n",
      "[37]\tvalidation-rmse:11.22265\n",
      "[38]\tvalidation-rmse:11.24518\n",
      "[39]\tvalidation-rmse:11.27625\n",
      "[40]\tvalidation-rmse:11.29424\n",
      "[41]\tvalidation-rmse:11.36488\n",
      "[42]\tvalidation-rmse:11.38627\n",
      "[43]\tvalidation-rmse:11.44599\n",
      "[44]\tvalidation-rmse:11.48719\n",
      "[45]\tvalidation-rmse:11.51575\n",
      "[46]\tvalidation-rmse:11.56459\n",
      "[47]\tvalidation-rmse:11.58918\n",
      "[48]\tvalidation-rmse:11.61874\n",
      "[49]\tvalidation-rmse:11.69477\n",
      "[50]\tvalidation-rmse:11.75766\n",
      "[51]\tvalidation-rmse:11.83405\n"
     ]
    },
    {
     "name": "stderr",
     "output_type": "stream",
     "text": [
      "/Users/chakreshsingh/opt/anaconda3/envs/mlflow/lib/python3.8/site-packages/xgboost/core.py:160: UserWarning: [01:03:31] WARNING: /Users/runner/work/xgboost/xgboost/src/objective/regression_obj.cu:209: reg:linear is now deprecated in favor of reg:squarederror.\n",
      "  warnings.warn(smsg, UserWarning)\n"
     ]
    },
    {
     "name": "stdout",
     "output_type": "stream",
     "text": [
      "[0]\tvalidation-rmse:10.30059\n",
      "[1]\tvalidation-rmse:10.31380\n",
      "[2]\tvalidation-rmse:11.00240\n",
      "[3]\tvalidation-rmse:11.37768\n",
      "[4]\tvalidation-rmse:11.82881\n",
      "[5]\tvalidation-rmse:11.98105\n",
      "[6]\tvalidation-rmse:12.10770\n",
      "[7]\tvalidation-rmse:12.63531\n",
      "[8]\tvalidation-rmse:12.73176\n",
      "[9]\tvalidation-rmse:12.88804\n",
      "[10]\tvalidation-rmse:13.27205\n",
      "[11]\tvalidation-rmse:13.84128\n",
      "[12]\tvalidation-rmse:14.03113\n",
      "[13]\tvalidation-rmse:14.22280\n",
      "[14]\tvalidation-rmse:15.02993\n",
      "[15]\tvalidation-rmse:15.06906\n",
      "[16]\tvalidation-rmse:15.23623\n",
      "[17]\tvalidation-rmse:15.32859\n",
      "[18]\tvalidation-rmse:15.51290\n",
      "[19]\tvalidation-rmse:15.75144\n",
      "[20]\tvalidation-rmse:15.83982\n",
      "[21]\tvalidation-rmse:16.03400\n",
      "[22]\tvalidation-rmse:16.38358\n",
      "[23]\tvalidation-rmse:16.56743\n",
      "[24]\tvalidation-rmse:17.00611\n",
      "[25]\tvalidation-rmse:17.10783\n",
      "[26]\tvalidation-rmse:17.24267\n",
      "[27]\tvalidation-rmse:17.25366\n",
      "[28]\tvalidation-rmse:17.29471\n",
      "[29]\tvalidation-rmse:17.35709\n",
      "[30]\tvalidation-rmse:17.49387\n",
      "[31]\tvalidation-rmse:17.68112\n",
      "[32]\tvalidation-rmse:17.74458\n",
      "[33]\tvalidation-rmse:17.74690\n",
      "[34]\tvalidation-rmse:17.72528\n",
      "[35]\tvalidation-rmse:18.07850\n",
      "[36]\tvalidation-rmse:18.15513\n",
      "[37]\tvalidation-rmse:18.15103\n",
      "[38]\tvalidation-rmse:18.38193\n",
      "[39]\tvalidation-rmse:18.44632\n",
      "[40]\tvalidation-rmse:18.43448\n",
      "[41]\tvalidation-rmse:18.49894\n",
      "[42]\tvalidation-rmse:18.48866\n",
      "[43]\tvalidation-rmse:18.60487\n",
      "[44]\tvalidation-rmse:18.61326\n",
      "[45]\tvalidation-rmse:18.60025\n",
      "[46]\tvalidation-rmse:18.62385\n",
      "[47]\tvalidation-rmse:18.69631\n",
      "[48]\tvalidation-rmse:18.71107\n",
      "[49]\tvalidation-rmse:18.72574\n",
      "[50]\tvalidation-rmse:18.76030\n"
     ]
    },
    {
     "name": "stderr",
     "output_type": "stream",
     "text": [
      "/Users/chakreshsingh/opt/anaconda3/envs/mlflow/lib/python3.8/site-packages/xgboost/core.py:160: UserWarning: [01:03:46] WARNING: /Users/runner/work/xgboost/xgboost/src/objective/regression_obj.cu:209: reg:linear is now deprecated in favor of reg:squarederror.\n",
      "  warnings.warn(smsg, UserWarning)\n"
     ]
    },
    {
     "name": "stdout",
     "output_type": "stream",
     "text": [
      "[0]\tvalidation-rmse:10.70308\n",
      "[1]\tvalidation-rmse:11.09735\n",
      "[2]\tvalidation-rmse:12.39727\n",
      "[3]\tvalidation-rmse:13.05841\n",
      "[4]\tvalidation-rmse:13.64851\n",
      "[5]\tvalidation-rmse:14.33071\n",
      "[6]\tvalidation-rmse:14.75315\n",
      "[7]\tvalidation-rmse:15.03513\n",
      "[8]\tvalidation-rmse:15.34744\n",
      "[9]\tvalidation-rmse:15.55826\n",
      "[10]\tvalidation-rmse:15.71936\n",
      "[11]\tvalidation-rmse:15.84995\n",
      "[12]\tvalidation-rmse:16.03050\n",
      "[13]\tvalidation-rmse:16.37533\n",
      "[14]\tvalidation-rmse:16.40685\n",
      "[15]\tvalidation-rmse:16.52306\n",
      "[16]\tvalidation-rmse:16.59752\n",
      "[17]\tvalidation-rmse:16.66045\n",
      "[18]\tvalidation-rmse:16.71010\n",
      "[19]\tvalidation-rmse:16.88886\n",
      "[20]\tvalidation-rmse:16.94294\n",
      "[21]\tvalidation-rmse:16.95424\n",
      "[22]\tvalidation-rmse:17.01125\n",
      "[23]\tvalidation-rmse:17.06916\n",
      "[24]\tvalidation-rmse:17.08717\n",
      "[25]\tvalidation-rmse:17.10545\n",
      "[26]\tvalidation-rmse:17.11581\n",
      "[27]\tvalidation-rmse:17.12697\n",
      "[28]\tvalidation-rmse:17.20984\n",
      "[29]\tvalidation-rmse:17.21875\n",
      "[30]\tvalidation-rmse:17.22617\n",
      "[31]\tvalidation-rmse:17.24214\n",
      "[32]\tvalidation-rmse:17.25670\n",
      "[33]\tvalidation-rmse:17.26255\n",
      "[34]\tvalidation-rmse:17.26667\n",
      "[35]\tvalidation-rmse:17.30058\n",
      "[36]\tvalidation-rmse:17.30843\n",
      "[37]\tvalidation-rmse:17.31812\n",
      "[38]\tvalidation-rmse:17.32764\n",
      "[39]\tvalidation-rmse:17.33034\n",
      "[40]\tvalidation-rmse:17.33441\n",
      "[41]\tvalidation-rmse:17.34661\n",
      "[42]\tvalidation-rmse:17.35233\n",
      "[43]\tvalidation-rmse:17.35674\n",
      "[44]\tvalidation-rmse:17.36455\n",
      "[45]\tvalidation-rmse:17.36162\n",
      "[46]\tvalidation-rmse:17.36463\n",
      "[47]\tvalidation-rmse:17.36921\n",
      "[48]\tvalidation-rmse:17.37239\n",
      "[49]\tvalidation-rmse:17.37376\n"
     ]
    },
    {
     "name": "stderr",
     "output_type": "stream",
     "text": [
      "/Users/chakreshsingh/opt/anaconda3/envs/mlflow/lib/python3.8/site-packages/xgboost/core.py:160: UserWarning: [01:04:10] WARNING: /Users/runner/work/xgboost/xgboost/src/objective/regression_obj.cu:209: reg:linear is now deprecated in favor of reg:squarederror.\n",
      "  warnings.warn(smsg, UserWarning)\n"
     ]
    },
    {
     "name": "stdout",
     "output_type": "stream",
     "text": [
      "[0]\tvalidation-rmse:10.07677\n",
      "[1]\tvalidation-rmse:10.14438\n",
      "[2]\tvalidation-rmse:10.13863\n",
      "[3]\tvalidation-rmse:10.26519\n",
      "[4]\tvalidation-rmse:10.39208\n",
      "[5]\tvalidation-rmse:10.42621\n",
      "[6]\tvalidation-rmse:10.49773\n",
      "[7]\tvalidation-rmse:10.72485\n",
      "[8]\tvalidation-rmse:10.78588\n",
      "[9]\tvalidation-rmse:10.84646\n",
      "[10]\tvalidation-rmse:11.00238\n",
      "[11]\tvalidation-rmse:11.08556\n",
      "[12]\tvalidation-rmse:11.28363\n",
      "[13]\tvalidation-rmse:11.42166\n",
      "[14]\tvalidation-rmse:11.57524\n",
      "[15]\tvalidation-rmse:11.64690\n",
      "[16]\tvalidation-rmse:11.82403\n",
      "[17]\tvalidation-rmse:11.97066\n",
      "[18]\tvalidation-rmse:12.04270\n",
      "[19]\tvalidation-rmse:12.15086\n",
      "[20]\tvalidation-rmse:12.25855\n",
      "[21]\tvalidation-rmse:12.37809\n",
      "[22]\tvalidation-rmse:12.53771\n",
      "[23]\tvalidation-rmse:12.60970\n",
      "[24]\tvalidation-rmse:12.71137\n",
      "[25]\tvalidation-rmse:12.77354\n",
      "[26]\tvalidation-rmse:12.91489\n",
      "[27]\tvalidation-rmse:13.06978\n",
      "[28]\tvalidation-rmse:13.13860\n",
      "[29]\tvalidation-rmse:13.17900\n",
      "[30]\tvalidation-rmse:13.24047\n",
      "[31]\tvalidation-rmse:13.30261\n",
      "[32]\tvalidation-rmse:13.36236\n",
      "[33]\tvalidation-rmse:13.62973\n",
      "[34]\tvalidation-rmse:13.67332\n",
      "[35]\tvalidation-rmse:13.70934\n",
      "[36]\tvalidation-rmse:13.72601\n",
      "[37]\tvalidation-rmse:13.83276\n",
      "[38]\tvalidation-rmse:14.13713\n",
      "[39]\tvalidation-rmse:14.22655\n",
      "[40]\tvalidation-rmse:14.32523\n",
      "[41]\tvalidation-rmse:14.45307\n",
      "[42]\tvalidation-rmse:14.47443\n",
      "[43]\tvalidation-rmse:14.74720\n",
      "[44]\tvalidation-rmse:14.73269\n",
      "[45]\tvalidation-rmse:14.77772\n",
      "[46]\tvalidation-rmse:14.83675\n",
      "[47]\tvalidation-rmse:14.88878\n",
      "[48]\tvalidation-rmse:14.99859\n",
      "[49]\tvalidation-rmse:15.17432\n",
      "[0]\tvalidation-rmse:10.06328\n"
     ]
    },
    {
     "name": "stderr",
     "output_type": "stream",
     "text": [
      "/Users/chakreshsingh/opt/anaconda3/envs/mlflow/lib/python3.8/site-packages/xgboost/core.py:160: UserWarning: [01:04:28] WARNING: /Users/runner/work/xgboost/xgboost/src/objective/regression_obj.cu:209: reg:linear is now deprecated in favor of reg:squarederror.\n",
      "  warnings.warn(smsg, UserWarning)\n"
     ]
    },
    {
     "name": "stdout",
     "output_type": "stream",
     "text": [
      "[1]\tvalidation-rmse:10.06157\n",
      "[2]\tvalidation-rmse:10.06640\n",
      "[3]\tvalidation-rmse:10.07230\n",
      "[4]\tvalidation-rmse:10.08247\n",
      "[5]\tvalidation-rmse:10.09309\n",
      "[6]\tvalidation-rmse:10.10573\n",
      "[7]\tvalidation-rmse:10.11841\n",
      "[8]\tvalidation-rmse:10.12140\n",
      "[9]\tvalidation-rmse:10.14024\n",
      "[10]\tvalidation-rmse:10.14974\n",
      "[11]\tvalidation-rmse:10.16525\n",
      "[12]\tvalidation-rmse:10.17460\n",
      "[13]\tvalidation-rmse:10.19505\n",
      "[14]\tvalidation-rmse:10.21180\n",
      "[15]\tvalidation-rmse:10.20980\n",
      "[16]\tvalidation-rmse:10.22437\n",
      "[17]\tvalidation-rmse:10.22551\n",
      "[18]\tvalidation-rmse:10.23477\n",
      "[19]\tvalidation-rmse:10.24876\n",
      "[20]\tvalidation-rmse:10.25008\n",
      "[21]\tvalidation-rmse:10.26971\n",
      "[22]\tvalidation-rmse:10.27817\n",
      "[23]\tvalidation-rmse:10.27800\n",
      "[24]\tvalidation-rmse:10.30424\n",
      "[25]\tvalidation-rmse:10.31786\n",
      "[26]\tvalidation-rmse:10.32302\n",
      "[27]\tvalidation-rmse:10.32842\n",
      "[28]\tvalidation-rmse:10.34331\n",
      "[29]\tvalidation-rmse:10.34201\n",
      "[30]\tvalidation-rmse:10.34974\n",
      "[31]\tvalidation-rmse:10.38077\n",
      "[32]\tvalidation-rmse:10.37846\n",
      "[33]\tvalidation-rmse:10.38289\n",
      "[34]\tvalidation-rmse:10.38773\n",
      "[35]\tvalidation-rmse:10.38453\n",
      "[36]\tvalidation-rmse:10.39401\n",
      "[37]\tvalidation-rmse:10.40218\n",
      "[38]\tvalidation-rmse:10.41898\n",
      "[39]\tvalidation-rmse:10.42976\n",
      "[40]\tvalidation-rmse:10.45571\n",
      "[41]\tvalidation-rmse:10.44399\n",
      "[42]\tvalidation-rmse:10.46270\n",
      "[43]\tvalidation-rmse:10.46403\n",
      "[44]\tvalidation-rmse:10.47218\n",
      "[45]\tvalidation-rmse:10.48136\n",
      "[46]\tvalidation-rmse:10.47867\n",
      "[47]\tvalidation-rmse:10.47601\n",
      "[48]\tvalidation-rmse:10.52495\n",
      "[49]\tvalidation-rmse:10.54954\n",
      "[50]\tvalidation-rmse:10.54828\n"
     ]
    },
    {
     "name": "stderr",
     "output_type": "stream",
     "text": [
      "/Users/chakreshsingh/opt/anaconda3/envs/mlflow/lib/python3.8/site-packages/xgboost/core.py:160: UserWarning: [01:04:39] WARNING: /Users/runner/work/xgboost/xgboost/src/objective/regression_obj.cu:209: reg:linear is now deprecated in favor of reg:squarederror.\n",
      "  warnings.warn(smsg, UserWarning)\n"
     ]
    },
    {
     "name": "stdout",
     "output_type": "stream",
     "text": [
      "[0]\tvalidation-rmse:10.08898\n",
      "[1]\tvalidation-rmse:10.13564\n",
      "[2]\tvalidation-rmse:10.25982\n",
      "[3]\tvalidation-rmse:10.30004\n",
      "[4]\tvalidation-rmse:10.51884\n",
      "[5]\tvalidation-rmse:10.90039\n",
      "[6]\tvalidation-rmse:10.92822\n",
      "[7]\tvalidation-rmse:11.13945\n",
      "[8]\tvalidation-rmse:11.40218\n",
      "[9]\tvalidation-rmse:11.58705\n",
      "[10]\tvalidation-rmse:11.85132\n",
      "[11]\tvalidation-rmse:11.99249\n",
      "[12]\tvalidation-rmse:12.13998\n",
      "[13]\tvalidation-rmse:12.35042\n",
      "[14]\tvalidation-rmse:12.46867\n",
      "[15]\tvalidation-rmse:12.63469\n",
      "[16]\tvalidation-rmse:12.90600\n",
      "[17]\tvalidation-rmse:13.05568\n",
      "[18]\tvalidation-rmse:13.35642\n",
      "[19]\tvalidation-rmse:13.47946\n",
      "[20]\tvalidation-rmse:13.64651\n",
      "[21]\tvalidation-rmse:13.75732\n",
      "[22]\tvalidation-rmse:13.82977\n",
      "[23]\tvalidation-rmse:14.07298\n",
      "[24]\tvalidation-rmse:14.14299\n",
      "[25]\tvalidation-rmse:14.35247\n",
      "[26]\tvalidation-rmse:14.51666\n",
      "[27]\tvalidation-rmse:14.59853\n",
      "[28]\tvalidation-rmse:14.70017\n",
      "[29]\tvalidation-rmse:14.85904\n",
      "[30]\tvalidation-rmse:15.01459\n",
      "[31]\tvalidation-rmse:15.02095\n",
      "[32]\tvalidation-rmse:15.15217\n",
      "[33]\tvalidation-rmse:15.19161\n",
      "[34]\tvalidation-rmse:15.30951\n",
      "[35]\tvalidation-rmse:15.52018\n",
      "[36]\tvalidation-rmse:15.54080\n",
      "[37]\tvalidation-rmse:15.58978\n",
      "[38]\tvalidation-rmse:15.71164\n",
      "[39]\tvalidation-rmse:15.82117\n",
      "[40]\tvalidation-rmse:15.91552\n",
      "[41]\tvalidation-rmse:15.97821\n",
      "[42]\tvalidation-rmse:16.01667\n",
      "[43]\tvalidation-rmse:16.10887\n",
      "[44]\tvalidation-rmse:16.18935\n",
      "[45]\tvalidation-rmse:16.19289\n",
      "[46]\tvalidation-rmse:16.20405\n",
      "[47]\tvalidation-rmse:16.30546\n",
      "[48]\tvalidation-rmse:16.32084\n",
      "[49]\tvalidation-rmse:16.47598\n",
      "[50]\tvalidation-rmse:16.49584\n"
     ]
    },
    {
     "name": "stderr",
     "output_type": "stream",
     "text": [
      "/Users/chakreshsingh/opt/anaconda3/envs/mlflow/lib/python3.8/site-packages/xgboost/core.py:160: UserWarning: [01:05:04] WARNING: /Users/runner/work/xgboost/xgboost/src/objective/regression_obj.cu:209: reg:linear is now deprecated in favor of reg:squarederror.\n",
      "  warnings.warn(smsg, UserWarning)\n"
     ]
    },
    {
     "name": "stdout",
     "output_type": "stream",
     "text": [
      "[0]\tvalidation-rmse:10.06041\n",
      "[1]\tvalidation-rmse:10.06798\n",
      "[2]\tvalidation-rmse:10.07814\n",
      "[3]\tvalidation-rmse:10.09370\n",
      "[4]\tvalidation-rmse:10.11095\n",
      "[5]\tvalidation-rmse:10.13338\n",
      "[6]\tvalidation-rmse:10.13072\n",
      "[7]\tvalidation-rmse:10.13416\n",
      "[8]\tvalidation-rmse:10.16196\n",
      "[9]\tvalidation-rmse:10.18011\n",
      "[10]\tvalidation-rmse:10.20785\n",
      "[11]\tvalidation-rmse:10.21679\n",
      "[12]\tvalidation-rmse:10.23862\n",
      "[13]\tvalidation-rmse:10.23972\n",
      "[14]\tvalidation-rmse:10.27367\n",
      "[15]\tvalidation-rmse:10.28042\n",
      "[16]\tvalidation-rmse:10.30427\n",
      "[17]\tvalidation-rmse:10.34163\n",
      "[18]\tvalidation-rmse:10.38231\n",
      "[19]\tvalidation-rmse:10.40434\n",
      "[20]\tvalidation-rmse:10.43383\n",
      "[21]\tvalidation-rmse:10.48261\n",
      "[22]\tvalidation-rmse:10.49056\n",
      "[23]\tvalidation-rmse:10.51726\n",
      "[24]\tvalidation-rmse:10.55597\n",
      "[25]\tvalidation-rmse:10.58673\n",
      "[26]\tvalidation-rmse:10.61562\n",
      "[27]\tvalidation-rmse:10.62836\n",
      "[28]\tvalidation-rmse:10.68391\n",
      "[29]\tvalidation-rmse:10.73937\n",
      "[30]\tvalidation-rmse:10.80303\n",
      "[31]\tvalidation-rmse:10.81999\n",
      "[32]\tvalidation-rmse:10.83527\n",
      "[33]\tvalidation-rmse:10.88215\n",
      "[34]\tvalidation-rmse:10.92231\n",
      "[35]\tvalidation-rmse:10.93361\n",
      "[36]\tvalidation-rmse:11.03292\n",
      "[37]\tvalidation-rmse:11.03730\n",
      "[38]\tvalidation-rmse:11.05188\n",
      "[39]\tvalidation-rmse:11.15952\n",
      "[40]\tvalidation-rmse:11.19963\n",
      "[41]\tvalidation-rmse:11.21409\n",
      "[42]\tvalidation-rmse:11.21819\n",
      "[43]\tvalidation-rmse:11.28456\n",
      "[44]\tvalidation-rmse:11.33842\n",
      "[45]\tvalidation-rmse:11.38611\n",
      "[46]\tvalidation-rmse:11.39363\n",
      "[47]\tvalidation-rmse:11.42835\n",
      "[48]\tvalidation-rmse:11.47214\n",
      "[49]\tvalidation-rmse:11.58060\n"
     ]
    },
    {
     "name": "stderr",
     "output_type": "stream",
     "text": [
      "/Users/chakreshsingh/opt/anaconda3/envs/mlflow/lib/python3.8/site-packages/xgboost/core.py:160: UserWarning: [01:05:20] WARNING: /Users/runner/work/xgboost/xgboost/src/objective/regression_obj.cu:209: reg:linear is now deprecated in favor of reg:squarederror.\n",
      "  warnings.warn(smsg, UserWarning)\n"
     ]
    },
    {
     "name": "stdout",
     "output_type": "stream",
     "text": [
      "[0]\tvalidation-rmse:10.27329\n",
      "[1]\tvalidation-rmse:10.28427\n",
      "[2]\tvalidation-rmse:11.01803\n",
      "[3]\tvalidation-rmse:11.38766\n",
      "[4]\tvalidation-rmse:11.63951\n",
      "[5]\tvalidation-rmse:11.91219\n",
      "[6]\tvalidation-rmse:12.70206\n",
      "[7]\tvalidation-rmse:12.76927\n",
      "[8]\tvalidation-rmse:13.05353\n",
      "[9]\tvalidation-rmse:13.44130\n",
      "[10]\tvalidation-rmse:13.77425\n",
      "[11]\tvalidation-rmse:14.11018\n",
      "[12]\tvalidation-rmse:14.48901\n",
      "[13]\tvalidation-rmse:14.52910\n",
      "[14]\tvalidation-rmse:14.62504\n",
      "[15]\tvalidation-rmse:15.37004\n",
      "[16]\tvalidation-rmse:15.45092\n",
      "[17]\tvalidation-rmse:15.73042\n",
      "[18]\tvalidation-rmse:15.79890\n",
      "[19]\tvalidation-rmse:15.81044\n",
      "[20]\tvalidation-rmse:15.93831\n",
      "[21]\tvalidation-rmse:15.99233\n",
      "[22]\tvalidation-rmse:16.20422\n",
      "[23]\tvalidation-rmse:16.23591\n",
      "[24]\tvalidation-rmse:16.32329\n",
      "[25]\tvalidation-rmse:16.85339\n",
      "[26]\tvalidation-rmse:17.11758\n",
      "[27]\tvalidation-rmse:17.22006\n",
      "[28]\tvalidation-rmse:17.38970\n",
      "[29]\tvalidation-rmse:17.53752\n",
      "[30]\tvalidation-rmse:17.55462\n",
      "[31]\tvalidation-rmse:17.90540\n",
      "[32]\tvalidation-rmse:18.04517\n",
      "[33]\tvalidation-rmse:18.06693\n",
      "[34]\tvalidation-rmse:18.12843\n",
      "[35]\tvalidation-rmse:18.18446\n",
      "[36]\tvalidation-rmse:18.29697\n",
      "[37]\tvalidation-rmse:18.32027\n",
      "[38]\tvalidation-rmse:18.41852\n",
      "[39]\tvalidation-rmse:18.48956\n",
      "[40]\tvalidation-rmse:18.71415\n",
      "[41]\tvalidation-rmse:18.76124\n",
      "[42]\tvalidation-rmse:18.77874\n",
      "[43]\tvalidation-rmse:18.79017\n",
      "[44]\tvalidation-rmse:18.82317\n",
      "[45]\tvalidation-rmse:18.87678\n",
      "[46]\tvalidation-rmse:18.91372\n",
      "[47]\tvalidation-rmse:18.91921\n",
      "[48]\tvalidation-rmse:18.96395\n",
      "[49]\tvalidation-rmse:18.98744\n"
     ]
    },
    {
     "name": "stderr",
     "output_type": "stream",
     "text": [
      "/Users/chakreshsingh/opt/anaconda3/envs/mlflow/lib/python3.8/site-packages/xgboost/core.py:160: UserWarning: [01:05:37] WARNING: /Users/runner/work/xgboost/xgboost/src/objective/regression_obj.cu:209: reg:linear is now deprecated in favor of reg:squarederror.\n",
      "  warnings.warn(smsg, UserWarning)\n"
     ]
    },
    {
     "name": "stdout",
     "output_type": "stream",
     "text": [
      "[0]\tvalidation-rmse:10.61124\n",
      "[1]\tvalidation-rmse:11.15432\n",
      "[2]\tvalidation-rmse:12.26608\n",
      "[3]\tvalidation-rmse:13.13481\n",
      "[4]\tvalidation-rmse:13.56198\n",
      "[5]\tvalidation-rmse:13.69163\n",
      "[6]\tvalidation-rmse:14.59024\n",
      "[7]\tvalidation-rmse:15.03239\n",
      "[8]\tvalidation-rmse:16.36798\n",
      "[9]\tvalidation-rmse:16.63862\n",
      "[10]\tvalidation-rmse:16.71077\n",
      "[11]\tvalidation-rmse:16.81911\n",
      "[12]\tvalidation-rmse:16.86454\n",
      "[13]\tvalidation-rmse:16.90302\n",
      "[14]\tvalidation-rmse:17.33058\n",
      "[15]\tvalidation-rmse:17.55102\n",
      "[16]\tvalidation-rmse:18.06122\n",
      "[17]\tvalidation-rmse:18.25214\n",
      "[18]\tvalidation-rmse:18.30049\n",
      "[19]\tvalidation-rmse:18.37445\n",
      "[20]\tvalidation-rmse:18.38848\n",
      "[21]\tvalidation-rmse:18.58921\n",
      "[22]\tvalidation-rmse:18.68100\n",
      "[23]\tvalidation-rmse:18.57009\n",
      "[24]\tvalidation-rmse:18.62086\n",
      "[25]\tvalidation-rmse:18.71816\n",
      "[26]\tvalidation-rmse:18.76621\n",
      "[27]\tvalidation-rmse:18.79428\n",
      "[28]\tvalidation-rmse:18.73769\n",
      "[29]\tvalidation-rmse:18.88241\n",
      "[30]\tvalidation-rmse:18.94171\n",
      "[31]\tvalidation-rmse:18.97248\n",
      "[32]\tvalidation-rmse:18.78276\n",
      "[33]\tvalidation-rmse:18.86485\n",
      "[34]\tvalidation-rmse:18.89260\n",
      "[35]\tvalidation-rmse:18.85699\n",
      "[36]\tvalidation-rmse:18.92295\n",
      "[37]\tvalidation-rmse:18.92633\n",
      "[38]\tvalidation-rmse:18.92992\n",
      "[39]\tvalidation-rmse:18.92190\n",
      "[40]\tvalidation-rmse:19.04313\n",
      "[41]\tvalidation-rmse:19.00137\n",
      "[42]\tvalidation-rmse:19.03955\n",
      "[43]\tvalidation-rmse:19.04021\n",
      "[44]\tvalidation-rmse:19.05120\n",
      "[45]\tvalidation-rmse:19.09228\n",
      "[46]\tvalidation-rmse:19.10978\n",
      "[47]\tvalidation-rmse:19.05148\n",
      "[48]\tvalidation-rmse:19.08571\n",
      "[49]\tvalidation-rmse:19.08025\n"
     ]
    },
    {
     "name": "stderr",
     "output_type": "stream",
     "text": [
      "/Users/chakreshsingh/opt/anaconda3/envs/mlflow/lib/python3.8/site-packages/xgboost/core.py:160: UserWarning: [01:05:55] WARNING: /Users/runner/work/xgboost/xgboost/src/objective/regression_obj.cu:209: reg:linear is now deprecated in favor of reg:squarederror.\n",
      "  warnings.warn(smsg, UserWarning)\n"
     ]
    },
    {
     "name": "stdout",
     "output_type": "stream",
     "text": [
      "[0]\tvalidation-rmse:10.07486\n",
      "[1]\tvalidation-rmse:10.20459\n",
      "[2]\tvalidation-rmse:10.22391\n",
      "[3]\tvalidation-rmse:10.31948\n",
      "[4]\tvalidation-rmse:10.48489\n",
      "[5]\tvalidation-rmse:10.60744\n",
      "[6]\tvalidation-rmse:10.71070\n",
      "[7]\tvalidation-rmse:11.01860\n",
      "[8]\tvalidation-rmse:11.35683\n",
      "[9]\tvalidation-rmse:11.47764\n",
      "[10]\tvalidation-rmse:11.55162\n",
      "[11]\tvalidation-rmse:11.80720\n",
      "[12]\tvalidation-rmse:11.91644\n",
      "[13]\tvalidation-rmse:12.09171\n",
      "[14]\tvalidation-rmse:12.29183\n",
      "[15]\tvalidation-rmse:12.41369\n",
      "[16]\tvalidation-rmse:12.63012\n",
      "[17]\tvalidation-rmse:12.71253\n",
      "[18]\tvalidation-rmse:12.87573\n",
      "[19]\tvalidation-rmse:13.13532\n",
      "[20]\tvalidation-rmse:13.20074\n",
      "[21]\tvalidation-rmse:13.46607\n",
      "[22]\tvalidation-rmse:13.58629\n",
      "[23]\tvalidation-rmse:13.69411\n",
      "[24]\tvalidation-rmse:13.75241\n",
      "[25]\tvalidation-rmse:13.88159\n",
      "[26]\tvalidation-rmse:13.98024\n",
      "[27]\tvalidation-rmse:14.06715\n",
      "[28]\tvalidation-rmse:14.22990\n",
      "[29]\tvalidation-rmse:14.27841\n",
      "[30]\tvalidation-rmse:14.39714\n",
      "[31]\tvalidation-rmse:14.44889\n",
      "[32]\tvalidation-rmse:14.50199\n",
      "[33]\tvalidation-rmse:14.69921\n",
      "[34]\tvalidation-rmse:14.68876\n",
      "[35]\tvalidation-rmse:14.75069\n",
      "[36]\tvalidation-rmse:14.75832\n",
      "[37]\tvalidation-rmse:14.88715\n",
      "[38]\tvalidation-rmse:14.92100\n",
      "[39]\tvalidation-rmse:15.07989\n",
      "[40]\tvalidation-rmse:15.22867\n",
      "[41]\tvalidation-rmse:15.29435\n",
      "[42]\tvalidation-rmse:15.35792\n",
      "[43]\tvalidation-rmse:15.47831\n",
      "[44]\tvalidation-rmse:15.57533\n",
      "[45]\tvalidation-rmse:15.65217\n",
      "[46]\tvalidation-rmse:15.67978\n",
      "[47]\tvalidation-rmse:15.76108\n",
      "[48]\tvalidation-rmse:15.80790\n",
      "[49]\tvalidation-rmse:15.90486\n",
      "[50]\tvalidation-rmse:15.96778\n"
     ]
    }
   ],
   "source": [
    "best_result = fmin(\n",
    "    fn=objective,\n",
    "    space=search_scope,\n",
    "    algo=tpe.suggest,\n",
    "    max_evals=10,\n",
    "    trials=Trials(),\n",
    "    verbose=False\n",
    ")"
   ]
  },
  {
   "cell_type": "markdown",
   "metadata": {},
   "source": [
    "# Logging the best model run using autolog"
   ]
  },
  {
   "cell_type": "code",
   "execution_count": 42,
   "metadata": {},
   "outputs": [],
   "source": [
    "best_params = {\n",
    "    'learning_rate':\t0.059603805067328826,\n",
    "'max_depth':\t24,\n",
    "'min_child_weight':\t1.766271760072879,\n",
    "'objective'\t:'reg:linear',\n",
    "'reg_alpha'\t:0.012657205291454728,\n",
    "'reg_lambda' :\t0.12170874907939165,\n",
    "'seed':\t42\n",
    "}"
   ]
  },
  {
   "cell_type": "code",
   "execution_count": 43,
   "metadata": {},
   "outputs": [
    {
     "name": "stderr",
     "output_type": "stream",
     "text": [
      "2024/06/03 01:13:35 INFO mlflow.utils.autologging_utils: Created MLflow autologging run with ID '22bb5b10bd8845de9ec151e1af0804b8', which will track hyperparameters, performance metrics, model artifacts, and lineage information for the current xgboost workflow\n",
      "/Users/chakreshsingh/opt/anaconda3/envs/mlflow/lib/python3.8/site-packages/xgboost/core.py:160: UserWarning: [01:13:38] WARNING: /Users/runner/work/xgboost/xgboost/src/objective/regression_obj.cu:209: reg:linear is now deprecated in favor of reg:squarederror.\n",
      "  warnings.warn(smsg, UserWarning)\n"
     ]
    },
    {
     "name": "stdout",
     "output_type": "stream",
     "text": [
      "[0]\tvalidation-rmse:10.06490\n",
      "[1]\tvalidation-rmse:10.06705\n",
      "[2]\tvalidation-rmse:10.06917\n",
      "[3]\tvalidation-rmse:10.07500\n",
      "[4]\tvalidation-rmse:10.08213\n",
      "[5]\tvalidation-rmse:10.09354\n",
      "[6]\tvalidation-rmse:10.10344\n",
      "[7]\tvalidation-rmse:10.11992\n",
      "[8]\tvalidation-rmse:10.11965\n",
      "[9]\tvalidation-rmse:10.13519\n",
      "[10]\tvalidation-rmse:10.14861\n",
      "[11]\tvalidation-rmse:10.16692\n",
      "[12]\tvalidation-rmse:10.18483\n",
      "[13]\tvalidation-rmse:10.18665\n",
      "[14]\tvalidation-rmse:10.19403\n",
      "[15]\tvalidation-rmse:10.20640\n",
      "[16]\tvalidation-rmse:10.21823\n",
      "[17]\tvalidation-rmse:10.21464\n",
      "[18]\tvalidation-rmse:10.22703\n",
      "[19]\tvalidation-rmse:10.24413\n",
      "[20]\tvalidation-rmse:10.25229\n",
      "[21]\tvalidation-rmse:10.26407\n",
      "[22]\tvalidation-rmse:10.27672\n",
      "[23]\tvalidation-rmse:10.27407\n",
      "[24]\tvalidation-rmse:10.28369\n",
      "[25]\tvalidation-rmse:10.30578\n",
      "[26]\tvalidation-rmse:10.31330\n",
      "[27]\tvalidation-rmse:10.31038\n",
      "[28]\tvalidation-rmse:10.31877\n",
      "[29]\tvalidation-rmse:10.31395\n",
      "[30]\tvalidation-rmse:10.33245\n",
      "[31]\tvalidation-rmse:10.34701\n",
      "[32]\tvalidation-rmse:10.33012\n",
      "[33]\tvalidation-rmse:10.34681\n",
      "[34]\tvalidation-rmse:10.34226\n",
      "[35]\tvalidation-rmse:10.35609\n",
      "[36]\tvalidation-rmse:10.35205\n",
      "[37]\tvalidation-rmse:10.36512\n",
      "[38]\tvalidation-rmse:10.38648\n",
      "[39]\tvalidation-rmse:10.39367\n",
      "[40]\tvalidation-rmse:10.40339\n",
      "[41]\tvalidation-rmse:10.40600\n",
      "[42]\tvalidation-rmse:10.44450\n",
      "[43]\tvalidation-rmse:10.44202\n",
      "[44]\tvalidation-rmse:10.43946\n",
      "[45]\tvalidation-rmse:10.46235\n",
      "[46]\tvalidation-rmse:10.46164\n",
      "[47]\tvalidation-rmse:10.50476\n",
      "[48]\tvalidation-rmse:10.49531\n",
      "[49]\tvalidation-rmse:10.49317\n"
     ]
    },
    {
     "name": "stderr",
     "output_type": "stream",
     "text": [
      "2024/06/03 01:13:47 WARNING mlflow.utils.autologging_utils: MLflow autologging encountered a warning: \"/Users/chakreshsingh/opt/anaconda3/envs/mlflow/lib/python3.8/site-packages/xgboost/core.py:160: UserWarning: [01:13:47] WARNING: /Users/runner/work/xgboost/xgboost/src/c_api/c_api.cc:1240: Saving into deprecated binary model format, please consider using `json` or `ubj`. Model format will default to JSON in XGBoost 2.2 if not specified.\"\n"
     ]
    }
   ],
   "source": [
    "mlflow.xgboost.autolog()\n",
    "train = xgb.DMatrix(X_train,label=y_train)\n",
    "val = xgb.DMatrix(X_val,label=y_val)\n",
    "xgb_model = xgb.train(\n",
    "                        params=best_params,\n",
    "                        dtrain = train,\n",
    "                        num_boost_round=500,\n",
    "                        evals=[(val,\"validation\")],\n",
    "                        early_stopping_rounds=50 \n",
    "                    )"
   ]
  },
  {
   "cell_type": "code",
   "execution_count": null,
   "metadata": {},
   "outputs": [],
   "source": []
  }
 ],
 "metadata": {
  "kernelspec": {
   "display_name": "Python 3 (ipykernel)",
   "language": "python",
   "name": "python3"
  },
  "language_info": {
   "codemirror_mode": {
    "name": "ipython",
    "version": 3
   },
   "file_extension": ".py",
   "mimetype": "text/x-python",
   "name": "python",
   "nbconvert_exporter": "python",
   "pygments_lexer": "ipython3",
   "version": "3.8.18"
  }
 },
 "nbformat": 4,
 "nbformat_minor": 4
}
